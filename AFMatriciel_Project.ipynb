{
  "nbformat": 4,
  "nbformat_minor": 0,
  "metadata": {
    "colab": {
      "name": "AFMatriciel_Project.ipynb",
      "provenance": [],
      "collapsed_sections": [
        "Nk6M591C6y8g",
        "QFXT6MsO7Wrk",
        "_0mFO-G57ZLP",
        "dPFCaV067d0y",
        "94Hh0sex77yF"
      ],
      "toc_visible": true,
      "machine_shape": "hm"
    },
    "kernelspec": {
      "name": "python3",
      "display_name": "Python 3"
    }
  },
  "cells": [
    {
      "cell_type": "code",
      "metadata": {
        "id": "mX5jkgnd6qwn",
        "colab_type": "code",
        "outputId": "08bda090-cd43-4284-e96f-3f70b82befce",
        "colab": {
          "base_uri": "https://localhost:8080/",
          "height": 124
        }
      },
      "source": [
        "from google.colab import drive\n",
        "drive.mount('/content/drive')"
      ],
      "execution_count": 1,
      "outputs": [
        {
          "output_type": "stream",
          "text": [
            "Go to this URL in a browser: https://accounts.google.com/o/oauth2/auth?client_id=947318989803-6bn6qk8qdgf4n4g3pfee6491hc0brc4i.apps.googleusercontent.com&redirect_uri=urn%3aietf%3awg%3aoauth%3a2.0%3aoob&response_type=code&scope=email%20https%3a%2f%2fwww.googleapis.com%2fauth%2fdocs.test%20https%3a%2f%2fwww.googleapis.com%2fauth%2fdrive%20https%3a%2f%2fwww.googleapis.com%2fauth%2fdrive.photos.readonly%20https%3a%2f%2fwww.googleapis.com%2fauth%2fpeopleapi.readonly\n",
            "\n",
            "Enter your authorization code:\n",
            "··········\n",
            "Mounted at /content/drive\n"
          ],
          "name": "stdout"
        }
      ]
    },
    {
      "cell_type": "code",
      "metadata": {
        "id": "XUkYtE-n7kO2",
        "colab_type": "code",
        "colab": {}
      },
      "source": [
        "path = \"/content/drive/My Drive/M2/AFMatriciel\""
      ],
      "execution_count": 0,
      "outputs": []
    },
    {
      "cell_type": "markdown",
      "metadata": {
        "id": "Nk6M591C6y8g",
        "colab_type": "text"
      },
      "source": [
        "### **Data Compilation**"
      ]
    },
    {
      "cell_type": "code",
      "metadata": {
        "id": "rEF8agxz6rhh",
        "colab_type": "code",
        "colab": {}
      },
      "source": [
        "import sys\n",
        "import os\n",
        "from scipy.sparse import dok_matrix, csr_matrix\n",
        "from scipy import io\n",
        "import tarfile\n",
        "\n",
        "\n",
        "\n",
        "#################################################\n",
        "total_no_users = 2649429\n",
        "total_no_movies = 17770\n",
        "\n",
        "def process_content(content, D):\n",
        "    lines = content.split(\"\\n\")\n",
        "    id_movie = int(lines[0][:-1]) - 1\n",
        "    for i in range(1, len(lines)):\n",
        "        if lines[i] != '':\n",
        "            line = lines[i].split(\",\")\n",
        "            id_user = int(line[0]) - 1\n",
        "            rating = int(line[1])\n",
        "            D[id_user, id_movie] = rating\n",
        "    return D\n",
        "\n",
        "\n",
        "def rating_compiler(folder_name, out_path):\n",
        "    D = dok_matrix((total_no_users, total_no_movies))\n",
        "    res_listdir = os.listdir(folder_name)\n",
        "    number = len(res_listdir)\n",
        "    i = 0\n",
        "    for f in res_listdir:\n",
        "        if os.path.isfile(folder_name+f):\n",
        "            print(i, \" / \", number)\n",
        "            myfile = open(folder_name+f)\n",
        "            content = myfile.read()\n",
        "            myfile.close()\n",
        "            D = process_content(content, D)\n",
        "        i += 1\n",
        "    D = csr_matrix(D)             \n",
        "    io.savemat(out_path, {'X' : D})\n",
        "\n",
        "\n",
        "def rating_compiler2(tar_name, out_path):\n",
        "    D = dok_matrix((total_no_users, total_no_movies))\n",
        "    tar = tarfile.open(tar_name)\n",
        "    res_getmembers = tar.getmembers()\n",
        "    number = len(res_getmembers)\n",
        "    i = 0\n",
        "    for member in res_getmembers:\n",
        "        f = tar.extractfile(member)\n",
        "        if f is not None:    \n",
        "            print(i, \" / \", number)        \n",
        "            content = f.read()\n",
        "            f.close()\n",
        "            D = process_content(content.decode(), D)\n",
        "        i += 1\n",
        "    tar.close()\n",
        "    D = csr_matrix(D)             \n",
        "    io.savemat(out_path, {'X' : D})\n",
        "\n",
        "\n",
        "def extract_T_and_R(D_file_name, qualifying_file_name, out_T_path, out_R_path):\n",
        "    D = io.loadmat(D_file_name)['X']\n",
        "    myfile = open(qualifying_file_name)\n",
        "    content = myfile.read()\n",
        "    myfile.close()\n",
        "    lines = content.split(\"\\n\")\n",
        "    users, movies = set(), set()\n",
        "    for line in lines:\n",
        "        if line != '':\n",
        "            line_split = line.split(\",\")\n",
        "            if len(line_split) == 1:\n",
        "                # Movie id\n",
        "                movies.add(int(line_split[0][:-1]) - 1)\n",
        "            else:\n",
        "                # User id\n",
        "                users.add(int(line_split[0]) - 1)\n",
        "    T = D[list(users),:]\n",
        "    T = T[:,list(movies)]    \n",
        "    io.savemat(out_T_path, {'X' : T})\n",
        "    \n",
        "    movies2 = set(range(total_no_movies))\n",
        "    movies2 = movies2.difference(movies)\n",
        "    users2 = set(range(total_no_users))\n",
        "    users2 = users2.difference(users)\n",
        "    \n",
        "    R = D[list(users2),:]\n",
        "    R = R[:,list(movies2)]\n",
        "    io.savemat(out_R_path, {'X' : R})\n",
        "    \n",
        "\n",
        "\n",
        "\n",
        "#################################################\n",
        "if __name__ == \"__main__\":\n",
        "    rating_compiler2(path+\"/download/training_set.tar\", path+\"/D.mat\")\n",
        "    extract_T_and_R(path+\"/D.mat\", path+\"/download/qualifying.txt\", path+\"/T.mat\", path+\"/R.mat\")"
      ],
      "execution_count": 0,
      "outputs": []
    },
    {
      "cell_type": "markdown",
      "metadata": {
        "id": "NN61ajtw7D0C",
        "colab_type": "text"
      },
      "source": [
        "### **1. Baseline Estimates**"
      ]
    },
    {
      "cell_type": "code",
      "metadata": {
        "id": "B5AUhGWy7qR1",
        "colab_type": "code",
        "outputId": "21de8b6e-a3e6-4a95-b7c4-98612beffa7b",
        "colab": {
          "base_uri": "https://localhost:8080/",
          "height": 69
        }
      },
      "source": [
        "from scipy import io, sparse\n",
        "import numpy as np\n",
        "\n",
        "\n",
        "#################################################\n",
        "def compute_loss(mat, mu, bu, bi, l_reg=0.02):\n",
        "\n",
        "  no_users_entries = np.array((mat != 0).sum(1)).T.ravel()\n",
        "  bu_rep = np.repeat(bu, no_users_entries)\n",
        "\n",
        "  no_movies_entries = np.array((mat != 0).sum(0)).ravel()\n",
        "  bi_rep = np.repeat(bi, no_movies_entries)\n",
        "\n",
        "  mat = sparse.csr_matrix(mat)\n",
        "  mat.data[:] -= bi_rep\n",
        "  mat = sparse.csc_matrix(mat)\n",
        "  mat.data[:] -= bu_rep\n",
        "  mat.data[:] -= mu\n",
        "\n",
        "  loss = sum(mat.data[:] ** 2)\n",
        "\n",
        "  reg = l_reg * (sum(bu**2) + sum(bi**2))  \n",
        "  loss += reg\n",
        "  return loss\n",
        "\n",
        "def baseline_estimator(mat_file, l_reg=0.02):\n",
        "\n",
        "  mat = io.loadmat(mat_file)['X']\n",
        "  print(mat.shape)\n",
        "  no_users = mat.shape[0]\n",
        "  no_movies = mat.shape[1]\n",
        "  bu = np.zeros(no_users)\n",
        "  bi = np.zeros(no_movies)\n",
        "  mu = mat.mean()\n",
        "\n",
        "  print(\"compute loss...\")\n",
        "  loss = compute_loss(mat, mu, bu, bi, l_reg)\n",
        "  print(loss)\n",
        "\n",
        "  \"\"\"n_iter = 200\n",
        "  for it in range(n_iter):\n",
        "    print(it)\n",
        "    bu -= - 2 * \"\"\"\n",
        "\n",
        "\n",
        "#################################################\n",
        "if __name__ == \"__main__\":\n",
        "  \n",
        "  baseline_estimator(path+\"/T.mat\")"
      ],
      "execution_count": 60,
      "outputs": [
        {
          "output_type": "stream",
          "text": [
            "(478615, 17470)\n",
            "compute loss...\n",
            "1392049133.237792\n"
          ],
          "name": "stdout"
        }
      ]
    },
    {
      "cell_type": "code",
      "metadata": {
        "id": "8py4Lm0l9eqs",
        "colab_type": "code",
        "outputId": "634c6ae0-a1e4-490e-f03e-7ab53c30ebc4",
        "colab": {
          "base_uri": "https://localhost:8080/",
          "height": 121
        }
      },
      "source": [
        "from scipy import io, sparse\n",
        "import numpy as np\n",
        "\n",
        "mat = io.loadmat(path+\"/T.mat\")['X']\n",
        "print(mat.shape)\n",
        "\n",
        "mat = mat[:1500,:1000]\n",
        "print(mat.shape)\n",
        "print(mat.count_nonzero())\n",
        "print(mat.sum())\n",
        "\n",
        "bu = np.ones(mat.shape[0])\n",
        "bi = np.ones(mat.shape[1])\n",
        "\n",
        "no_users_entries = np.array((mat != 0).sum(1)).T.ravel()\n",
        "bu_rep = np.repeat(bu, no_users_entries)\n",
        "\n",
        "no_movies_entries = np.array((mat != 0).sum(0)).ravel()\n",
        "bi_rep = np.repeat(bi, no_movies_entries)\n",
        "\n",
        "mat = sparse.csr_matrix(mat)\n",
        "mat.data[:] -= bi_rep\n",
        "mat = sparse.csc_matrix(mat)\n",
        "mat.data[:] -= bu_rep\n",
        "\n",
        "print(\"========\")\n",
        "sum(mat.data[:] ** 2)"
      ],
      "execution_count": 59,
      "outputs": [
        {
          "output_type": "stream",
          "text": [
            "(478615, 17470)\n",
            "(1500, 1000)\n",
            "15409\n",
            "55043.0\n",
            "========\n"
          ],
          "name": "stdout"
        },
        {
          "output_type": "execute_result",
          "data": {
            "text/plain": [
              "55513.0"
            ]
          },
          "metadata": {
            "tags": []
          },
          "execution_count": 59
        }
      ]
    },
    {
      "cell_type": "markdown",
      "metadata": {
        "id": "QFXT6MsO7Wrk",
        "colab_type": "text"
      },
      "source": [
        "### **2. Correlation-Based Neighbourhood Model**"
      ]
    },
    {
      "cell_type": "code",
      "metadata": {
        "id": "5gGumOSo7rKa",
        "colab_type": "code",
        "colab": {}
      },
      "source": [
        ""
      ],
      "execution_count": 0,
      "outputs": []
    },
    {
      "cell_type": "markdown",
      "metadata": {
        "id": "_0mFO-G57ZLP",
        "colab_type": "text"
      },
      "source": [
        "### **3. Correlation-Based Neighbourhood Model with Implicit Feedback**"
      ]
    },
    {
      "cell_type": "code",
      "metadata": {
        "id": "r7DjKnRT7rxM",
        "colab_type": "code",
        "colab": {}
      },
      "source": [
        ""
      ],
      "execution_count": 0,
      "outputs": []
    },
    {
      "cell_type": "markdown",
      "metadata": {
        "id": "dPFCaV067d0y",
        "colab_type": "text"
      },
      "source": [
        "### **4. SVD++**"
      ]
    },
    {
      "cell_type": "code",
      "metadata": {
        "id": "jKG3HgK98Gym",
        "colab_type": "code",
        "colab": {}
      },
      "source": [
        ""
      ],
      "execution_count": 0,
      "outputs": []
    },
    {
      "cell_type": "markdown",
      "metadata": {
        "id": "94Hh0sex77yF",
        "colab_type": "text"
      },
      "source": [
        "### **5. Integrated Model**"
      ]
    },
    {
      "cell_type": "code",
      "metadata": {
        "id": "OkJ8byiA8H0W",
        "colab_type": "code",
        "colab": {}
      },
      "source": [
        ""
      ],
      "execution_count": 0,
      "outputs": []
    }
  ]
}